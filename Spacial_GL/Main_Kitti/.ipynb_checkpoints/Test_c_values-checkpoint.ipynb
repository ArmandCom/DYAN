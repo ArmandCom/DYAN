{
 "cells": [
  {
   "cell_type": "code",
   "execution_count": 12,
   "metadata": {},
   "outputs": [],
   "source": [
    "## Imports related to PyTorch\n",
    "import torch\n",
    "import torchvision\n",
    "import torch.nn as nn\n",
    "import torch.utils.data as Data\n",
    "from torch.autograd import Variable\n",
    "from torch.optim import lr_scheduler\n",
    "from torchvision import transforms, utils\n",
    "from torch.utils.data import Dataset, DataLoader\n",
    "\n",
    "## Generic imports\n",
    "import os\n",
    "import time\n",
    "import sys\n",
    "import pickle\n",
    "import random\n",
    "import argparse\n",
    "import numpy as np\n",
    "import pandas as pd\n",
    "from PIL import Image\n",
    "import matplotlib.pyplot as plt\n",
    "from scipy.linalg import hankel\n",
    "from skimage import io, transform\n",
    "from matplotlib.backends.backend_pdf import PdfPages\n",
    "\n",
    "## Dependencies classes and functions\n",
    "from utils import PSNR\n",
    "from utils import SHARP\n",
    "from utils import asMinutes\n",
    "from utils import timeSince\n",
    "from utils import getListOfFolders\n",
    "#from utils import creatRealDictionary\n",
    "from DyanOF import Encoder\n",
    "from DyanOF import creatRealDictionary\n",
    "from skimage import measure\n",
    "\n",
    "\n",
    "from scipy.misc import imread, imresize\n",
    "from skimage.measure import compare_mse as mse\n",
    "from collections import defaultdict\n",
    "import matplotlib\n",
    "import scipy.io as sio\n",
    "import cv2\n",
    "import seaborn as sns\n",
    "from matplotlib.colors import hsv_to_rgb\n",
    "from sklearn import preprocessing\n",
    "############################# Import Section #################################\n",
    "import math\n",
    "from pylab import imshow, show, get_cmap\n",
    "import imutils\n",
    "import scipy\n",
    "import math\n",
    "start = time.time()\n",
    "import pyflow"
   ]
  },
  {
   "cell_type": "code",
   "execution_count": 13,
   "metadata": {},
   "outputs": [],
   "source": [
    "# Hyper Parameters\n",
    "FRA = 9\n",
    "PRE = 1\n",
    "N_FRAME = FRA+PRE\n",
    "T = FRA\n",
    "gpu_id = 1"
   ]
  },
  {
   "cell_type": "code",
   "execution_count": 14,
   "metadata": {},
   "outputs": [],
   "source": [
    "def loadModel(ckpt_file):\n",
    "    loadedcheckpoint = torch.load(ckpt_file)#,map_location={'cuda:1':'cuda:0'})\n",
    "    stateDict = loadedcheckpoint['state_dict']\n",
    "\n",
    "    # load parameters\n",
    "    Dtheta = stateDict['l1.theta']\n",
    "    Drr    = stateDict['l1.rr']\n",
    "    model = Encoder(Drr, Dtheta, T, gpu_id)\n",
    "    model.cuda(gpu_id)\n",
    "    Drr = Variable(Drr.cuda(gpu_id))\n",
    "    Dtheta = Variable(Dtheta.cuda(gpu_id))\n",
    "    dictionary = creatRealDictionary(N_FRAME,Drr,Dtheta, gpu_id)\n",
    "    return model, dictionary, Drr, Dtheta\n",
    "\n",
    "def process_im(im, desired_sz=(128, 160)):\n",
    "    target_ds = float(desired_sz[0])/im.shape[0]\n",
    "    im = imresize(im, (desired_sz[0], int(np.round(target_ds * im.shape[1]))))\n",
    "    d = int((im.shape[1] - desired_sz[1]) / 2)\n",
    "    im = im[:, d:d+desired_sz[1]]\n",
    "    # im = imutils.resize(im, width=160,height=128)\n",
    "    return im\n",
    "\n",
    "\n",
    "def SSIM(predi,pix):\n",
    "    pix = pix.astype(float)\n",
    "    predict = predi.astype(float)\n",
    "    ssim_score = measure.compare_ssim(pix, predict, win_size=11, data_range = 1.,multichannel=True,\n",
    "                    gaussian_weights=True,sigma = 1.5,use_sample_covariance=False,\n",
    "                    K1=0.01,K2=0.03)\n",
    "\n",
    "    return ssim_score\n",
    "\n",
    "\n",
    "def scipwarp(img, u, v):\n",
    "    M, N, _ = img.shape\n",
    "    x = np.linspace(0,N-1, N)\n",
    "    y = np.linspace(0,M-1, M)\n",
    "    x, y = np.meshgrid(x, y)\n",
    "    x += u\n",
    "    y += v\n",
    "    warped = img\n",
    "    warped[:,:,0] = scipy.ndimage.map_coordinates(img[:,:,0], [y.ravel(),x.ravel()], order=1, mode='nearest').reshape(img.shape[0],img.shape[1])\n",
    "    warped[:,:,1] = scipy.ndimage.map_coordinates(img[:,:,1], [y.ravel(),x.ravel()], order=1, mode='nearest').reshape(img.shape[0],img.shape[1])\n",
    "    warped[:,:,2] = scipy.ndimage.map_coordinates(img[:,:,2], [y.ravel(),x.ravel()], order=1, mode='nearest').reshape(img.shape[0],img.shape[1])\n",
    "    return warped"
   ]
  },
  {
   "cell_type": "code",
   "execution_count": 15,
   "metadata": {},
   "outputs": [],
   "source": [
    "alpha = 0.012\n",
    "ratio = 0.75\n",
    "minWidth = 20\n",
    "nOuterFPIterations = 7\n",
    "nInnerFPIterations = 1\n",
    "nSORIterations = 30\n",
    "colType = 0\n",
    "\n",
    "import time\n",
    "current_milli_time = lambda: int(round(time.time() * 1000))\n",
    "\n",
    "gpu_id = 1\n",
    "ckpt_file = 'Kitti_GL_lam2_30.pth'\n",
    "rootDir = '/home/armandcomas/DYAN/Code/datasets/Caltech/images'\n",
    "\n",
    "## Load model from a checkpoint file\n",
    "\n",
    "folderList = ['set10V011'] # set10V011\n",
    "__imgsize__ = (128,160)\n",
    "mse = []\n",
    "ssim = []\n",
    "psnr = []\n",
    "c_list = []"
   ]
  },
  {
   "cell_type": "code",
   "execution_count": 17,
   "metadata": {
    "scrolled": false
   },
   "outputs": [
    {
     "name": "stdout",
     "output_type": "stream",
     "text": [
      "set10V011\n",
      "1733\n",
      "25\n"
     ]
    },
    {
     "name": "stderr",
     "output_type": "stream",
     "text": [
      "/usr/local/lib/python2.7/dist-packages/ipykernel_launcher.py:17: DeprecationWarning: `imresize` is deprecated!\n",
      "`imresize` is deprecated in SciPy 1.0.0, and will be removed in 1.2.0.\n",
      "Use ``skimage.transform.resize`` instead.\n"
     ]
    },
    {
     "name": "stdout",
     "output_type": "stream",
     "text": [
      "26\n",
      "27\n",
      "28\n",
      "29\n",
      "30\n",
      "31\n",
      "32\n",
      "33\n",
      "34\n",
      "35\n",
      "36\n",
      "37\n",
      "38\n",
      "39\n",
      "40\n",
      "41\n",
      "42\n",
      "43\n",
      "44\n",
      "45\n",
      "46\n",
      "47\n",
      "48\n",
      "49\n",
      "50\n",
      "51\n",
      "52\n",
      "53\n",
      "54\n",
      "55\n",
      "56\n",
      "57\n",
      "58\n",
      "59\n",
      "60\n",
      "61\n",
      "62\n",
      "63\n",
      "64\n",
      "65\n",
      "66\n",
      "67\n",
      "68\n",
      "69\n",
      "70\n",
      "71\n",
      "72\n",
      "73\n",
      "74\n",
      "75\n",
      "76\n",
      "77\n",
      "78\n",
      "79\n",
      "80\n",
      "81\n",
      "82\n",
      "83\n",
      "84\n",
      "85\n",
      "86\n",
      "87\n",
      "88\n",
      "89\n",
      "90\n",
      "91\n",
      "92\n",
      "93\n",
      "94\n",
      "95\n",
      "96\n",
      "97\n",
      "98\n",
      "99\n",
      "('Mse: ', 0.004421448453729162)\n",
      "('PSNR: ', 23.757876798465027)\n",
      "('SSIM: ', 0.8664941541801278)\n",
      "done!\n"
     ]
    },
    {
     "data": {
      "image/png": "[encoded data removed]",
      "text/plain": [
       "<matplotlib.figure.Figure at 0x7fef73796d10>"
      ]
     },
     "metadata": {
      "needs_background": "light"
     },
     "output_type": "display_data"
    }
   ],
   "source": [
    "for folder in folderList:\n",
    "    print(folder)\n",
    "    frames = [each for each in os.listdir(os.path.join(rootDir, folder)) if each.endswith(('.jpg','.jpeg','.bmp','png'))]\n",
    "    frames.sort()\n",
    "    print(len(frames))\n",
    "    for i in range(25,100,1):\n",
    "        sample = torch.FloatTensor(2, N_FRAME-1, 128*160)\n",
    "        model,  dictionary, Drr, Dtheta = loadModel(ckpt_file)\n",
    "        print(i)\n",
    "        for ii in range(i, FRA+i): #for INCR WNDW range(25,FRA+i)\n",
    "            imgname = os.path.join(rootDir,folder,frames[ii])\n",
    "            img = Image.open(imgname)\n",
    "            img1 = process_im(np.array(img))/255.\n",
    "\n",
    "            imgname = os.path.join(rootDir,folder,frames[ii+1])\n",
    "            img = Image.open(imgname)\n",
    "            img2 = process_im(np.array(img))/255.\n",
    "\n",
    "            u, v,_ = pyflow.coarse2fine_flow( img2, img1, alpha, ratio, minWidth,\n",
    "                    nOuterFPIterations, nInnerFPIterations, nSORIterations, colType)\n",
    "            \n",
    "            u = cv2.GaussianBlur(u,(3,3),0)\n",
    "            v = cv2.GaussianBlur(v,(3,3),0) #'Doesn't work with the poles trained for regular OF\n",
    "            flow = np.concatenate((u[..., None], v[..., None]), axis=2)\n",
    "            flow = np.transpose(flow,(2,0,1))\n",
    "            \n",
    "            sample[:,ii-i,:] = torch.from_numpy(flow.reshape(2,128*160)).type(torch.FloatTensor) #for INCR WNDW sample[:,ii-25,:]\n",
    "        \n",
    "        #sample[0,0,10290] = 2\n",
    "        img_plt = sample[0,0,:].cpu().numpy().reshape(128,160)\n",
    "\n",
    "        plt.imshow(img_plt, cmap='gray')\n",
    "        #plt.show()\n",
    "        \n",
    "            \n",
    "        imgname = os.path.join(rootDir,folder,frames[ii+2])\n",
    "        img = Image.open(imgname)\n",
    "        original = process_im(np.array(img))/255.\n",
    "\n",
    "        plt.imshow(original, cmap='gray')\n",
    "        plt.show()\n",
    "        \n",
    "        imgname = os.path.join(rootDir,folder,frames[ii+1])\n",
    "        img = Image.open(imgname)\n",
    "        tenth = process_im(np.array(img))/255.\n",
    "\n",
    "        inputData = sample.cuda(1)\n",
    "        #start = current_milli_time()\n",
    "\n",
    "        with torch.no_grad():\n",
    "            sparse = model.forward(Variable(inputData))\n",
    "            c = sparse.cpu().numpy()\n",
    "            c_list.append(c)\n",
    "            \n",
    "        ## INCREASING WINDOW  \n",
    "        #N_FRAME += 1\n",
    "        #T += 1\n",
    "        \n",
    "        prediction = torch.matmul(dictionary,sparse)[:,FRA,:].data.permute(1,0).resize(128,160,2).cpu().numpy()\n",
    "        img_back = scipwarp(tenth,prediction[:,:,0],prediction[:,:,1])\n",
    "        img_back = np.clip(img_back, 0, 1.)\n",
    "        \n",
    "        plt.imshow(img_back, cmap='gray')\n",
    "        plt.show()\n",
    "        \n",
    "        meanserror = np.mean( (img_back - original) ** 2 )\n",
    "        mse.append(meanserror)\n",
    "        peaksnr = 10*math.log10(1./meanserror)\n",
    "        psnr.append(peaksnr)\n",
    "        ssim.append(SSIM(original, img_back))\n",
    "        \n",
    "    print('Mse: ', np.mean(np.array(mse)))\n",
    "    print('PSNR: ', np.mean(np.array(psnr)))\n",
    "    print('SSIM: ', np.mean(np.array(ssim)))\n",
    "        \n",
    "    print('done!')"
   ]
  },
  {
   "cell_type": "code",
   "execution_count": 6,
   "metadata": {
    "scrolled": true
   },
   "outputs": [
    {
     "name": "stdout",
     "output_type": "stream",
     "text": [
      "(75, 2, 161, 20480)\n"
     ]
    }
   ],
   "source": [
    "for n in range(len(c_list)):\n",
    "    c_list[n] = np.squeeze(c_list[n])\n",
    "    c_list[n] = np.expand_dims(c_list[n], axis=0)\n",
    "c_array = np.concatenate(c_list, axis=0)\n",
    "print(c_array.shape)\n",
    "\n",
    "mean_c_arr = np.mean(c_array,axis=2)\n",
    "max_c_arr = np.amax(c_array,axis=2)\n",
    "mean_of_max = np.mean(max_c_arr,axis=2)"
   ]
  },
  {
   "cell_type": "markdown",
   "metadata": {},
   "source": [
    "# TODO\n",
    "- histogram of:\n",
    "    - sumed c values\n",
    "    - quantity after thresholding\n",
    "    - dimensions involved [0:100, 0, :, [0, 10290]]\n",
    "- pixels to take into account:\n",
    "    - FG: 10240 + 50 \n",
    "    - BG: 0\n",
    "- Involved frames: 25 - 100 (Bus crosses), horizontal movement\n",
    "- Extending window:\n",
    "    - Take into account PRE or adapt dyan to varying FRA\n",
    "    "
   ]
  },
  {
   "cell_type": "code",
   "execution_count": 30,
   "metadata": {},
   "outputs": [
    {
     "name": "stdout",
     "output_type": "stream",
     "text": [
      "(75, 161)\n"
     ]
    },
    {
     "data": {
      "image/png": "[encoded data removed]",
      "text/plain": [
       "<matplotlib.figure.Figure at 0x7eff9c6168d0>"
      ]
     },
     "metadata": {
      "needs_background": "light"
     },
     "output_type": "display_data"
    },
    {
     "data": {
      "image/png": "[encoded data removed]",
      "text/plain": [
       "<matplotlib.figure.Figure at 0x7eff197b8dd0>"
      ]
     },
     "metadata": {
      "needs_background": "light"
     },
     "output_type": "display_data"
    },
    {
     "data": {
      "image/png": "[encoded data removed]",
      "text/plain": [
       "<matplotlib.figure.Figure at 0x7eff19b63450>"
      ]
     },
     "metadata": {
      "needs_background": "light"
     },
     "output_type": "display_data"
    },
    {
     "data": {
      "image/png": "[encoded data removed]",
      "text/plain": [
       "<matplotlib.figure.Figure at 0x7eff19c17f90>"
      ]
     },
     "metadata": {
      "needs_background": "light"
     },
     "output_type": "display_data"
    },
    {
     "data": {
      "image/png": "[encoded data removed]",
      "text/plain": [
       "<matplotlib.figure.Figure at 0x7eff9c67f250>"
      ]
     },
     "metadata": {
      "needs_background": "light"
     },
     "output_type": "display_data"
    },
    {
     "data": {
      "image/png": "[encoded data removed]",
      "text/plain": [
       "<matplotlib.figure.Figure at 0x7eff9c442890>"
      ]
     },
     "metadata": {
      "needs_background": "light"
     },
     "output_type": "display_data"
    },
    {
     "data": {
      "image/png": "[encoded data removed]",
      "text/plain": [
       "<matplotlib.figure.Figure at 0x7eff654390d0>"
      ]
     },
     "metadata": {
      "needs_background": "light"
     },
     "output_type": "display_data"
    }
   ],
   "source": [
    "uv = 0\n",
    "lenC = 161\n",
    "\n",
    "xbar = np.arange(0,lenC)\n",
    "c_hist_mid = np.zeros(lenC)\n",
    "c_hist_ori = np.zeros(lenC)\n",
    "c_hist_total = np.zeros(lenC)\n",
    "\n",
    "th = 0.1\n",
    "c_hist_mid_th = np.zeros(lenC)\n",
    "c_hist_ori_th = np.zeros(lenC)\n",
    "c_hist_total_th = np.zeros(lenC)\n",
    "\n",
    "quad_lik = np.zeros((lenC-1)/4)\n",
    "quad_mean = np.zeros((lenC-1)/4)\n",
    "quad_arr = np.zeros((4,((lenC-1)/4)))\n",
    "\n",
    "ini = 0\n",
    "end = 75\n",
    "wndw = 'slide'\n",
    "\n",
    "c_ev = c_array[ini:end,uv,:,10290]\n",
    "print(c_ev.shape)\n",
    "for n in range(lenC):\n",
    "    \n",
    "    c_hist_mid[n] = np.sum(c_array[ini:end,uv,n,10290])\n",
    "    c_hist_ori[n] = np.sum(c_array[ini:end,uv,n,0])\n",
    "    c_hist_total[n] = np.sum(c_array[:,uv,n,:])\n",
    "    \n",
    "    #check if 4 consecutive values are similar\n",
    "    if (n<41 and n!=0):\n",
    "        quad = [np.sum(c_array[ini:end,uv,n,10290]), np.sum(c_array[ini:end,uv,n+40,10290]), np.sum(c_array[ini:end,uv,n+80,10290]), np.sum(c_array[ini:end,uv,n+120,10290])]\n",
    "        quad = np.absolute(quad)\n",
    "        quad_mean[n-1] = np.mean(quad)\n",
    "        quad_lik[n-1] = np.amax(quad) / quad_mean[n-1]\n",
    "        quad_arr[:,n-1] = quad\n",
    "    \n",
    "    c_hist_mid_th[n] = np.where(c_array[ini:end,uv,n,10290] > th)[0].size + np.where(c_array[ini:end,uv,n,10290] < -th)[0].size\n",
    "    c_hist_ori_th[n] = np.where(c_array[ini:end,uv,n,0] > th)[0].size + np.where(c_array[ini:end,uv,n,0] < -th)[0].size\n",
    "    c_hist_total_th[n] = np.where(c_array[ini:end,uv,n,:] > th)[0].size + np.where(c_array[ini:end,uv,n,:] < -th)[0].size\n",
    "   \n",
    "#print(quad_lik, quad_mean)\n",
    "\n",
    "# evolution of c array throughout time\n",
    "plt.pcolormesh(c_ev.T, cmap='RdBu')\n",
    "plt.colorbar()\n",
    "plt.savefig('C_evolution_px%s_uv%d_CsFrom%dTo%d_%sWindow_GL_15lam_30epoch' % ('10290', uv, 25, 100, wndw))\n",
    "plt.show()\n",
    "\n",
    "\n",
    "plt.bar(xbar,c_hist_mid, color = 'b')\n",
    "#plt.savefig('C_hist_sum_px%s_uv%d_CsFrom%dTo%d_%sWindow_GL' % ('10290', uv, 25, 100, wndw))\n",
    "plt.show()\n",
    "plt.bar(xbar,c_hist_mid_th, color = 'r')\n",
    "#plt.savefig('C_hist_thr%1.1f_px%s_uv%d_CsFrom%dTo%d_%sWindow' % (th, '10290', uv, 25, 100, wndw))\n",
    "plt.show()\n",
    "plt.bar(xbar,c_hist_ori, color = 'b')\n",
    "#plt.savefig('C_hist_sum_px%s_uv%d_CsFrom%dTo%d_%sWindow' % ('0', uv, 25, 100, wndw))\n",
    "plt.show()   \n",
    "plt.bar(xbar,c_hist_ori_th, color = 'r')\n",
    "#plt.savefig('C_hist_thr%1.1f_px%s_uv%d_CsFrom%dTo%d_%sWindow' % (th, '0', uv, 25, 100, wndw))\n",
    "plt.show()\n",
    "plt.bar(xbar,c_hist_total, color = 'b')\n",
    "#plt.savefig('C_hist_sum_px%s_uv%d_CsFrom%dTo%d_%sWindow' % ('all', uv, 25, 100, wndw))\n",
    "plt.show()\n",
    "plt.bar(xbar,c_hist_total_th, color = 'r')\n",
    "#plt.savefig('C_hist_thr%1.1f_px%s_uv%d_CsFrom%dTo%d_%sWindow' % (th, 'all', uv, 25, 100, wndw))\n",
    "plt.show()\n",
    "#for i in range(100):\n",
    "#    print(c_array[:,0,0,0].shape)\n",
    "#    plt.plot(xbar,c_array[i,1,:,1500],color = 'b')\n",
    "#    plt.ylim((-1, 1))\n",
    "#    plt.show()"
   ]
  },
  {
   "cell_type": "code",
   "execution_count": 31,
   "metadata": {},
   "outputs": [
    {
     "data": {
      "image/png": "[encoded data removed]",
      "text/plain": [
       "<matplotlib.figure.Figure at 0x7eff9c4d2ad0>"
      ]
     },
     "metadata": {
      "needs_background": "light"
     },
     "output_type": "display_data"
    }
   ],
   "source": [
    "th2 = 1e29 # threshold for the mean of the sums for all values of a quartet\n",
    "dic_mask = np.zeros((lenC-1)/4)\n",
    "dic_mask[np.where( quad_mean > th2 )] = 1\n",
    "\n",
    "#dic_values = np.zeros(4,(lenC-1)/4)\n",
    "#quad.reshape(4,40 + 1) (si no esta ia aixi)\n",
    "#for n: for k:... if quad(k,n) > 0 --> dic_values(1:2,n) = quad(k,n) elsif quad(k,n) < 0 --> dic_values(3:4,n) = quad(k,n)\n",
    "\n",
    "# mask poles\n",
    "r = np.array(Drr.cpu().numpy())                      \n",
    "theta = np.array(Dtheta.cpu().numpy())           \n",
    "\n",
    "pole_arr = dictionary[1,1:lenC].reshape(4,((lenC-1)/4))\n",
    "dic_values = np.zeros(pole_arr.shape)\n",
    "\n",
    "\n",
    "for n in range(40):\n",
    "\n",
    "    if pole_arr[0,n] > 0:\n",
    "        dic_values[[0,1],n] += [quad_arr[0,n], quad_arr[0,n]]\n",
    "    elif pole_arr[0,n] < 0:\n",
    "        dic_values[[2,3],n] += [quad_arr[0,n], quad_arr[0,n]]\n",
    "        \n",
    "    if pole_arr[1,n] > 0:\n",
    "        dic_values[[0,3],n] += [quad_arr[1,n], quad_arr[1,n]]\n",
    "    elif pole_arr[1,n] < 0:\n",
    "        dic_values[[1,2],n] += [quad_arr[1,n], quad_arr[1,n]]\n",
    "        \n",
    "    if pole_arr[2,n] < 0:\n",
    "        dic_values[[0,1],n] += [quad_arr[2,n], quad_arr[2,n]]\n",
    "    elif pole_arr[2,n] > 0:\n",
    "        dic_values[[2,3],n] += [quad_arr[2,n], quad_arr[2,n]]\n",
    "        \n",
    "    if pole_arr[3,n] < 0:\n",
    "        dic_values[[0,3],n] += [quad_arr[3,n], quad_arr[3,n]]\n",
    "    elif pole_arr[3,n] > 0:\n",
    "        dic_values[[1,2],n] += [quad_arr[3,n], quad_arr[3,n]]\n",
    "        \n",
    "dic_values = (dic_values/np.amax(dic_values))*100\n",
    "\n",
    "# polar plot\n",
    "cm = plt.cm.get_cmap('winter')\n",
    "ax = plt.subplot(1,1,1, projection='polar')\n",
    "ax.scatter(0,1,c='black')\n",
    "ax.scatter(theta, r, s=dic_values[0,:], c=dic_values[0,:], alpha=0.8, edgecolors='none', cmap=cm)\n",
    "ax.scatter(-theta,r, s=dic_values[1,:], c=dic_values[1,:], alpha=0.8, edgecolors='none', cmap=cm)\n",
    "ax.scatter(np.pi - theta,r, s=dic_values[2,:], c=dic_values[2,:], alpha=0.8, edgecolors='none', cmap=cm)\n",
    "ax.scatter(theta-np.pi,r, s=dic_values[3,:], c=dic_values[3,:], alpha=0.8, edgecolors='none', cmap=cm)\n",
    "# \n",
    "ax.set_rmax(1.2)\n",
    "ax.legend()\n",
    "ax.set_title(\"Dictionary with used poles highlighted\", va='bottom')\n",
    "plt.savefig('usedPoles_GL_1.5lam_30.png') \n",
    "plt.show()\n",
    "plt.close()\n",
    "\n",
    "\n",
    "\n",
    "r_act = r * dic_mask\n",
    "r_unact = r * (1 - dic_mask)\n",
    "\n",
    "# polar plot\n",
    "ax = plt.subplot(1,1,1, projection='polar')\n",
    "ax.scatter(0,1,c='black')\n",
    "# unactive poles\n",
    "ax.scatter(theta, r_act, c = 'red')\n",
    "ax.scatter(-theta,r_act,c='red')\n",
    "ax.scatter(np.pi - theta,r_act,c='red')\n",
    "ax.scatter(theta-np.pi, r_act, c = 'red')\n",
    "# active poles\n",
    "ax.scatter(theta, r_unact, c = 'green')\n",
    "ax.scatter(-theta,r_unact, c = 'green')\n",
    "ax.scatter(np.pi - theta,r_unact,c = 'green')\n",
    "ax.scatter(theta-np.pi, r_unact, c = 'green')\n",
    "# \n",
    "ax.set_rmax(1.2)\n",
    "ax.set_title(\"Dictionary with used poles highlighted\", va='bottom')\n",
    "#plt.savefig('usedPoles.png') \n",
    "#plt.show()\n",
    "plt.close()\n"
   ]
  },
  {
   "cell_type": "code",
   "execution_count": null,
   "metadata": {},
   "outputs": [],
   "source": []
  }
 ],
 "metadata": {
  "kernelspec": {
   "display_name": "Python 2",
   "language": "python",
   "name": "python2"
  },
  "language_info": {
   "codemirror_mode": {
    "name": "ipython",
    "version": 2
   },
   "file_extension": ".py",
   "mimetype": "text/x-python",
   "name": "python",
   "nbconvert_exporter": "python",
   "pygments_lexer": "ipython2",
   "version": "2.7.12"
  }
 },
 "nbformat": 4,
 "nbformat_minor": 2
}
